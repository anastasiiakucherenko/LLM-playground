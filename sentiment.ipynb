{
 "cells": [
  {
   "cell_type": "markdown",
   "id": "8c376a7e",
   "metadata": {},
   "source": []
  },
  {
   "cell_type": "code",
   "execution_count": 33,
   "id": "52539351",
   "metadata": {},
   "outputs": [],
   "source": [
    "from datasets import load_dataset\n",
    "from transformers import AutoTokenizer, DataCollatorWithPadding\n",
    "\n",
    "raw_datasets = load_dataset(\"stanfordnlp/imdb\")\n",
    "checkpoint = \"distilbert-base-uncased\"\n",
    "tokenizer = AutoTokenizer.from_pretrained(checkpoint)\n"
   ]
  },
  {
   "cell_type": "code",
   "execution_count": 26,
   "id": "52cfe361",
   "metadata": {},
   "outputs": [
    {
     "data": {
      "text/plain": [
       "DatasetDict({\n",
       "    train: Dataset({\n",
       "        features: ['text', 'label'],\n",
       "        num_rows: 25000\n",
       "    })\n",
       "    test: Dataset({\n",
       "        features: ['text', 'label'],\n",
       "        num_rows: 25000\n",
       "    })\n",
       "    unsupervised: Dataset({\n",
       "        features: ['text', 'label'],\n",
       "        num_rows: 50000\n",
       "    })\n",
       "})"
      ]
     },
     "execution_count": 26,
     "metadata": {},
     "output_type": "execute_result"
    }
   ],
   "source": [
    "raw_datasets"
   ]
  },
  {
   "cell_type": "code",
   "execution_count": 46,
   "id": "1d1ac0c2",
   "metadata": {},
   "outputs": [],
   "source": [
    "#raw_datasets['train'] = raw_datasets['train'].select(range(23000, 24000))\n",
    "raw_datasets['train'] = raw_datasets['train'].shuffle(seed=42).select(range(1000))\n",
    "#raw_datasets['test'] = raw_datasets['test'].select(range(200))\n",
    "raw_datasets['test'] = raw_datasets['test'].shuffle(seed=42).select(range(200))\n",
    "raw_datasets['validate'] = raw_datasets['test'].shuffle(seed=42).select(range(200))"
   ]
  },
  {
   "cell_type": "code",
   "execution_count": 53,
   "id": "18b31827",
   "metadata": {},
   "outputs": [],
   "source": [
    "raw_datasets['validate'] = raw_datasets['test'].shuffle(seed=37).select(range(200))"
   ]
  },
  {
   "cell_type": "code",
   "execution_count": 35,
   "id": "dd1f7687",
   "metadata": {},
   "outputs": [
    {
     "name": "stdout",
     "output_type": "stream",
     "text": [
      "Unique labels: {0, 1}\n",
      "Label counts: {0: 512, 1: 488}\n"
     ]
    }
   ],
   "source": [
    "train_labels = raw_datasets['train']['label']\n",
    "print(\"Unique labels:\", set(train_labels))\n",
    "print(\"Label counts:\", {label: train_labels.count(label) for label in set(train_labels)})"
   ]
  },
  {
   "cell_type": "code",
   "execution_count": 37,
   "id": "5a4ebdb2",
   "metadata": {},
   "outputs": [
    {
     "name": "stderr",
     "output_type": "stream",
     "text": [
      "Map:   0%|          | 0/1000 [00:00<?, ? examples/s]"
     ]
    },
    {
     "name": "stderr",
     "output_type": "stream",
     "text": [
      "Map: 100%|██████████| 1000/1000 [00:00<00:00, 12305.06 examples/s]\n",
      "Map: 100%|██████████| 200/200 [00:00<00:00, 12024.95 examples/s]\n"
     ]
    }
   ],
   "source": [
    "def tokenize_function(example):\n",
    "    return tokenizer(example[\"text\"], truncation=True)\n",
    "\n",
    "\n",
    "tokenized_datasets = raw_datasets.map(tokenize_function, batched=True)\n",
    "data_collator = DataCollatorWithPadding(tokenizer=tokenizer)"
   ]
  },
  {
   "cell_type": "code",
   "execution_count": 54,
   "id": "7b16ce0b",
   "metadata": {},
   "outputs": [
    {
     "name": "stderr",
     "output_type": "stream",
     "text": [
      "Map:   0%|          | 0/200 [00:00<?, ? examples/s]"
     ]
    },
    {
     "name": "stderr",
     "output_type": "stream",
     "text": [
      "Map: 100%|██████████| 200/200 [00:00<00:00, 10449.97 examples/s]\n"
     ]
    }
   ],
   "source": [
    "tokenized_datasets = raw_datasets.map(tokenize_function, batched=True)"
   ]
  },
  {
   "cell_type": "code",
   "execution_count": 38,
   "id": "09a5ef40",
   "metadata": {},
   "outputs": [
    {
     "name": "stdout",
     "output_type": "stream",
     "text": [
      "{'text': ['George P. Cosmatos\\' \"Rambo: First Blood Part II\" is pure wish-fulfillment. The United States clearly didn\\'t win the war in Vietnam. They caused damage to this country beyond the imaginable and this movie continues the fairy story of the oh-so innocent soldiers. The only bad guys were the leaders of the nation, who made this war happen. The character of Rambo is perfect to notice this. He is extremely patriotic, bemoans that US-Americans didn\\'t appreciate and celebrate the achievements of the single soldier, but has nothing but distrust for leading officers and politicians. Like every film that defends the war (e.g. \"We Were Soldiers\") also this one avoids the need to give a comprehensible reason for the engagement in South Asia. And for that matter also the reason for every single US-American soldier that was there. Instead, Rambo gets to take revenge for the wounds of a whole nation. It would have been better to work on how to deal with the memories, rather than suppressing them. \"Do we get to win this time?\" Yes, you do.', \"In the process of trying to establish the audiences' empathy with Jake Roedel (Tobey Maguire) the filmmakers slander the North and the Jayhawkers. Missouri never withdrew from the Union and the Union Army was not an invading force. The Southerners fought for State's Rights: the right to own slaves, elect crooked legislatures and judges, and employ a political spoils system. There's nothing noble in that. The Missourians could have easily traveled east and joined the Confederate Army.<br /><br />It seems to me that the story has nothing to do with ambiguity. When Jake leaves the Bushwhackers, it's not because he saw error in his way, he certainly doesn't give himself over to the virtue of the cause of abolition.\"], 'label': [0, 1]}\n"
     ]
    }
   ],
   "source": [
    "train_dataset = raw_datasets[\"train\"]\n",
    "print(train_dataset[2:4])"
   ]
  },
  {
   "cell_type": "code",
   "execution_count": 39,
   "id": "f715245e",
   "metadata": {},
   "outputs": [
    {
     "name": "stdout",
     "output_type": "stream",
     "text": [
      "[1, 0, 0, 0, 0, 0, 0, 0, 1, 1, 0, 0, 0, 0, 1, 0, 1, 1, 1, 0, 0, 0, 1, 0, 1, 0, 1, 1, 1, 0, 1, 0, 0, 0, 0, 0, 1, 0, 1, 0, 1, 0, 1, 0, 1, 1, 1, 0, 0, 1, 1, 1, 1, 1, 1, 1, 0, 0, 1, 0, 0, 0, 0, 0, 0, 0, 1, 0, 0, 1, 1, 1, 0, 1, 0, 0, 1, 1, 0, 1, 1, 1, 1, 0, 1, 0, 0, 1, 1, 0, 0, 0, 0, 1, 1, 0, 0, 0, 0, 0, 1, 1, 0, 0, 1, 0, 1, 1, 1, 0, 1, 1, 0, 0, 0, 0, 1, 1, 1, 0, 1, 1, 0, 1, 1, 0, 1, 1, 1, 0, 1, 1, 1, 0, 1, 0, 1, 0, 1, 1, 0, 1, 1, 1, 1, 1, 0, 1, 1, 0, 1, 0, 1, 0, 1, 0, 1, 0, 1, 0, 0, 0, 0, 1, 0, 0, 0, 0, 1, 0, 0, 0, 1, 0, 0, 1, 1, 0, 0, 1, 1, 1, 0, 0, 1, 1, 0, 0, 0, 1, 0, 1, 0, 0, 0, 1, 0, 0, 1, 1]\n"
     ]
    }
   ],
   "source": [
    "print(train_dataset[800:1000]['label'])"
   ]
  },
  {
   "cell_type": "code",
   "execution_count": 40,
   "id": "0e9a42f2",
   "metadata": {},
   "outputs": [],
   "source": [
    "from transformers import TrainingArguments\n",
    "\n",
    "training_args = TrainingArguments(\"test-trainer\")"
   ]
  },
  {
   "cell_type": "code",
   "execution_count": 41,
   "id": "2b9bf5be",
   "metadata": {},
   "outputs": [
    {
     "name": "stderr",
     "output_type": "stream",
     "text": [
      "Some weights of DistilBertForSequenceClassification were not initialized from the model checkpoint at distilbert-base-uncased and are newly initialized: ['classifier.bias', 'classifier.weight', 'pre_classifier.bias', 'pre_classifier.weight']\n",
      "You should probably TRAIN this model on a down-stream task to be able to use it for predictions and inference.\n"
     ]
    }
   ],
   "source": [
    "from transformers import AutoModelForSequenceClassification\n",
    "\n",
    "model = AutoModelForSequenceClassification.from_pretrained(checkpoint, num_labels=2)"
   ]
  },
  {
   "cell_type": "code",
   "execution_count": 42,
   "id": "3f34b8c1",
   "metadata": {},
   "outputs": [],
   "source": [
    "from transformers import Trainer\n",
    "\n",
    "trainer = Trainer(\n",
    "    model,\n",
    "    training_args,\n",
    "    train_dataset=tokenized_datasets[\"train\"],\n",
    "    eval_dataset=tokenized_datasets[\"test\"],\n",
    "    data_collator=data_collator,\n",
    "    processing_class=tokenizer,\n",
    ")"
   ]
  },
  {
   "cell_type": "code",
   "execution_count": 43,
   "id": "0d51f051",
   "metadata": {},
   "outputs": [
    {
     "data": {
      "text/html": [
       "\n",
       "    <div>\n",
       "      \n",
       "      <progress value='375' max='375' style='width:300px; height:20px; vertical-align: middle;'></progress>\n",
       "      [375/375 12:28, Epoch 3/3]\n",
       "    </div>\n",
       "    <table border=\"1\" class=\"dataframe\">\n",
       "  <thead>\n",
       " <tr style=\"text-align: left;\">\n",
       "      <th>Step</th>\n",
       "      <th>Training Loss</th>\n",
       "    </tr>\n",
       "  </thead>\n",
       "  <tbody>\n",
       "  </tbody>\n",
       "</table><p>"
      ],
      "text/plain": [
       "<IPython.core.display.HTML object>"
      ]
     },
     "metadata": {},
     "output_type": "display_data"
    },
    {
     "data": {
      "text/plain": [
       "TrainOutput(global_step=375, training_loss=0.2925295613606771, metrics={'train_runtime': 750.786, 'train_samples_per_second': 3.996, 'train_steps_per_second': 0.499, 'total_flos': 368950682500416.0, 'train_loss': 0.2925295613606771, 'epoch': 3.0})"
      ]
     },
     "execution_count": 43,
     "metadata": {},
     "output_type": "execute_result"
    }
   ],
   "source": [
    "trainer.train()"
   ]
  },
  {
   "cell_type": "code",
   "execution_count": null,
   "id": "c8294546",
   "metadata": {},
   "outputs": [],
   "source": []
  },
  {
   "cell_type": "markdown",
   "id": "7f47c5bc",
   "metadata": {},
   "source": [
    "TrainOutput(global_step=375, training_loss=0.2925295613606771, metrics={'train_runtime': 750.786, 'train_samples_per_second': 3.996, 'train_steps_per_second': 0.499, 'total_flos': 368950682500416.0, 'train_loss': 0.2925295613606771, 'epoch': 3.0})\n",
    "{'accuracy': {'accuracy': 0.845}, 'precision': {'precision': 0.8155339805825242}, 'recall': {'recall': 0.875}, 'f1': {'f1': 0.8442211055276382}}"
   ]
  },
  {
   "cell_type": "code",
   "execution_count": 36,
   "id": "cbcc44c8",
   "metadata": {},
   "outputs": [
    {
     "data": {
      "text/html": [],
      "text/plain": [
       "<IPython.core.display.HTML object>"
      ]
     },
     "metadata": {},
     "output_type": "display_data"
    },
    {
     "name": "stdout",
     "output_type": "stream",
     "text": [
      "Review: <br /><br />When I unsuspectedly rented A Thousand Acres, I thought I was in for an entertaining Kin...\n",
      "Actual: Positive\n",
      "Predicted: Negative\n",
      "--------------------------------------------------\n",
      "Review: This is the latest entry in the long series of films with the French agent, O.S.S. 117 (the French a...\n",
      "Actual: Positive\n",
      "Predicted: Negative\n",
      "--------------------------------------------------\n",
      "Review: This movie was so frustrating. Everything seemed energetic and I was totally prepared to have a good...\n",
      "Actual: Negative\n",
      "Predicted: Negative\n",
      "--------------------------------------------------\n",
      "Review: I was truly and wonderfully surprised at \"O' Brother, Where Art Thou?\" The video store was out of al...\n",
      "Actual: Positive\n",
      "Predicted: Negative\n",
      "--------------------------------------------------\n",
      "Review: This movie spends most of its time preaching that it is the script that makes the movie, but apparen...\n",
      "Actual: Negative\n",
      "Predicted: Negative\n",
      "--------------------------------------------------\n"
     ]
    }
   ],
   "source": [
    "# Get some test examples\n",
    "test_examples = raw_datasets[\"test\"].select(range(5))  # First 5 test examples\n",
    "\n",
    "# Make predictions\n",
    "predictions = trainer.predict(tokenized_datasets[\"test\"].select(range(5)))\n",
    "predicted_labels = predictions.predictions.argmax(-1)\n",
    "\n",
    "# Print results\n",
    "for i, example in enumerate(test_examples):\n",
    "    actual_label = \"Positive\" if example[\"label\"] == 1 else \"Negative\"\n",
    "    predicted_label = \"Positive\" if predicted_labels[i] == 1 else \"Negative\"\n",
    "    \n",
    "    print(f\"Review: {example['text'][:100]}...\")  # First 100 characters\n",
    "    print(f\"Actual: {actual_label}\")\n",
    "    print(f\"Predicted: {predicted_label}\")\n",
    "    print(\"-\" * 50)"
   ]
  },
  {
   "cell_type": "code",
   "execution_count": 44,
   "id": "30c67640",
   "metadata": {},
   "outputs": [
    {
     "data": {
      "text/html": [],
      "text/plain": [
       "<IPython.core.display.HTML object>"
      ]
     },
     "metadata": {},
     "output_type": "display_data"
    },
    {
     "name": "stdout",
     "output_type": "stream",
     "text": [
      "Review: <br /><br />When I unsuspectedly rented A Thousand Acres, I thought I was in for an entertaining Kin...\n",
      "Actual: Positive\n",
      "Predicted: Positive\n",
      "--------------------------------------------------\n",
      "Review: This is the latest entry in the long series of films with the French agent, O.S.S. 117 (the French a...\n",
      "Actual: Positive\n",
      "Predicted: Positive\n",
      "--------------------------------------------------\n",
      "Review: This movie was so frustrating. Everything seemed energetic and I was totally prepared to have a good...\n",
      "Actual: Negative\n",
      "Predicted: Negative\n",
      "--------------------------------------------------\n",
      "Review: I was truly and wonderfully surprised at \"O' Brother, Where Art Thou?\" The video store was out of al...\n",
      "Actual: Positive\n",
      "Predicted: Positive\n",
      "--------------------------------------------------\n",
      "Review: This movie spends most of its time preaching that it is the script that makes the movie, but apparen...\n",
      "Actual: Negative\n",
      "Predicted: Negative\n",
      "--------------------------------------------------\n"
     ]
    }
   ],
   "source": [
    "# Get some test examples\n",
    "test_examples = raw_datasets[\"test\"].select(range(5))  # First 5 test examples\n",
    "\n",
    "# Make predictions\n",
    "predictions = trainer.predict(tokenized_datasets[\"test\"].select(range(5)))\n",
    "predicted_labels = predictions.predictions.argmax(-1)\n",
    "\n",
    "# Print results\n",
    "for i, example in enumerate(test_examples):\n",
    "    actual_label = \"Positive\" if example[\"label\"] == 1 else \"Negative\"\n",
    "    predicted_label = \"Positive\" if predicted_labels[i] == 1 else \"Negative\"\n",
    "    \n",
    "    print(f\"Review: {example['text'][:100]}...\")  # First 100 characters\n",
    "    print(f\"Actual: {actual_label}\")\n",
    "    print(f\"Predicted: {predicted_label}\")\n",
    "    print(\"-\" * 50)"
   ]
  },
  {
   "cell_type": "code",
   "execution_count": null,
   "id": "f3146514",
   "metadata": {},
   "outputs": [
    {
     "data": {
      "text/html": [],
      "text/plain": [
       "<IPython.core.display.HTML object>"
      ]
     },
     "metadata": {},
     "output_type": "display_data"
    },
    {
     "name": "stdout",
     "output_type": "stream",
     "text": [
      "(200, 2) (200,)\n"
     ]
    }
   ],
   "source": [
    "predictions = trainer.predict(tokenized_datasets[\"validate\"])\n",
    "print(predictions.predictions.shape, predictions.label_ids.shape)\n"
   ]
  },
  {
   "cell_type": "code",
   "execution_count": 49,
   "id": "affb8e5a",
   "metadata": {},
   "outputs": [
    {
     "name": "stdout",
     "output_type": "stream",
     "text": [
      "PredictionOutput(predictions=array([[ 2.6657157e+00, -2.9747741e+00],\n",
      "       [-2.9453065e+00,  2.2767632e+00],\n",
      "       [ 2.9884570e+00, -3.2128837e+00],\n",
      "       [ 2.7949965e+00, -3.0002401e+00],\n",
      "       [-2.8481870e+00,  2.1684809e+00],\n",
      "       [-2.9810469e+00,  2.2943504e+00],\n",
      "       [ 3.0110753e+00, -3.2257469e+00],\n",
      "       [ 2.7964444e+00, -3.0052059e+00],\n",
      "       [ 2.7993841e+00, -3.0574789e+00],\n",
      "       [ 2.4118650e+00, -2.5639350e+00],\n",
      "       [ 5.0808156e-01, -8.0128598e-01],\n",
      "       [-2.9015496e+00,  2.2048423e+00],\n",
      "       [-2.1912918e+00,  1.6404479e+00],\n",
      "       [-2.9122851e+00,  2.2361152e+00],\n",
      "       [ 5.1250839e-01, -9.1401166e-01],\n",
      "       [ 2.8740833e+00, -3.0308948e+00],\n",
      "       [-2.9463322e+00,  2.2631781e+00],\n",
      "       [-1.9188563e+00,  1.4704189e+00],\n",
      "       [ 1.0887568e+00, -1.3652998e+00],\n",
      "       [-2.5365207e+00,  1.9733919e+00],\n",
      "       [ 2.6415060e+00, -2.9479024e+00],\n",
      "       [-2.7221725e+00,  2.0173438e+00],\n",
      "       [ 2.9029100e+00, -3.0746820e+00],\n",
      "       [ 2.9352109e+00, -3.1545975e+00],\n",
      "       [ 2.1660240e+00, -2.3904622e+00],\n",
      "       [ 2.4221485e+00, -2.7355757e+00],\n",
      "       [-2.8728740e+00,  2.2235649e+00],\n",
      "       [-2.8849578e-01, -9.5146589e-02],\n",
      "       [ 3.0180142e+00, -3.2296515e+00],\n",
      "       [-2.9488025e+00,  2.2628999e+00],\n",
      "       [-2.9827240e+00,  2.2822063e+00],\n",
      "       [ 2.7597642e+00, -2.9548190e+00],\n",
      "       [ 2.9520669e+00, -3.1945484e+00],\n",
      "       [ 1.0372756e+00, -1.3971831e+00],\n",
      "       [ 2.9140131e+00, -3.1177037e+00],\n",
      "       [-2.9707501e+00,  2.2905586e+00],\n",
      "       [ 2.9426806e+00, -3.1269610e+00],\n",
      "       [ 5.9658873e-01, -9.2746514e-01],\n",
      "       [-2.8932736e+00,  2.2307715e+00],\n",
      "       [ 2.9090035e+00, -3.0964224e+00],\n",
      "       [-2.9759324e+00,  2.2884891e+00],\n",
      "       [-2.7251136e+00,  2.1050680e+00],\n",
      "       [-2.2293544e+00,  1.6953298e+00],\n",
      "       [ 2.9710250e+00, -3.1806915e+00],\n",
      "       [-1.6420648e+00,  1.2332107e+00],\n",
      "       [ 2.9980769e+00, -3.1510575e+00],\n",
      "       [-2.9737427e+00,  2.2871423e+00],\n",
      "       [-2.9905531e+00,  2.2614028e+00],\n",
      "       [-2.8380506e+00,  2.1568344e+00],\n",
      "       [ 2.9604976e+00, -3.1701732e+00],\n",
      "       [-2.5856559e+00,  1.9919975e+00],\n",
      "       [ 2.2568760e+00, -2.3771632e+00],\n",
      "       [-2.9849496e+00,  2.2787244e+00],\n",
      "       [ 2.9319704e+00, -3.1755016e+00],\n",
      "       [-2.9198573e+00,  2.2194865e+00],\n",
      "       [-1.6157326e+00,  1.2544876e+00],\n",
      "       [-1.9427935e+00,  1.4769312e+00],\n",
      "       [-2.2820871e+00,  1.7984113e+00],\n",
      "       [-2.2261088e+00,  1.7048351e+00],\n",
      "       [-2.6134551e+00,  2.0512555e+00],\n",
      "       [ 2.1218932e+00, -2.3880696e+00],\n",
      "       [ 1.6371812e+00, -1.9956089e+00],\n",
      "       [ 1.6389371e+00, -1.9844506e+00],\n",
      "       [ 1.8252178e+00, -2.2082543e+00],\n",
      "       [ 2.7386014e+00, -2.9768348e+00],\n",
      "       [ 4.3924770e-01, -8.4955716e-01],\n",
      "       [-8.7872231e-03, -4.2542434e-01],\n",
      "       [ 1.3546484e+00, -1.7103505e+00],\n",
      "       [-2.9440763e+00,  2.2886851e+00],\n",
      "       [ 1.7210323e+00, -2.1107166e+00],\n",
      "       [ 2.9449914e+00, -3.1946919e+00],\n",
      "       [ 2.5536101e+00, -2.7832181e+00],\n",
      "       [-2.7639296e+00,  2.0797474e+00],\n",
      "       [-1.5641092e+00,  1.1430827e+00],\n",
      "       [ 2.6780384e+00, -2.9675300e+00],\n",
      "       [ 1.7434577e+00, -2.1073415e+00],\n",
      "       [-2.9902442e+00,  2.2905324e+00],\n",
      "       [ 2.9075651e+00, -3.1827888e+00],\n",
      "       [-2.8205225e+00,  2.2078021e+00],\n",
      "       [-2.4590226e-01, -1.3197051e-02],\n",
      "       [ 2.9384677e+00, -3.1605179e+00],\n",
      "       [-2.6171539e+00,  2.0296218e+00],\n",
      "       [ 2.9567931e+00, -3.2198930e+00],\n",
      "       [-2.8624852e+00,  2.2563195e+00],\n",
      "       [ 3.0005114e+00, -3.1779048e+00],\n",
      "       [ 2.3862734e+00, -2.5753143e+00],\n",
      "       [-3.0062943e+00,  2.2820017e+00],\n",
      "       [ 2.8075111e+00, -3.0651367e+00],\n",
      "       [ 2.9639370e+00, -3.1300638e+00],\n",
      "       [ 2.6292009e+00, -2.7801101e+00],\n",
      "       [-2.8310692e+00,  2.1663377e+00],\n",
      "       [-2.6702216e+00,  2.0446987e+00],\n",
      "       [ 1.7397932e+00, -2.0967534e+00],\n",
      "       [-2.6350446e+00,  2.0937798e+00],\n",
      "       [-2.8792908e+00,  2.1981657e+00],\n",
      "       [-2.3875725e+00,  1.8673186e+00],\n",
      "       [ 2.7964239e+00, -3.0556943e+00],\n",
      "       [-1.5450824e+00,  1.1262447e+00],\n",
      "       [ 1.8058488e+00, -2.1474433e+00],\n",
      "       [ 2.2682941e+00, -2.6170084e+00],\n",
      "       [-2.9040825e+00,  2.2291367e+00],\n",
      "       [ 3.0010035e+00, -3.2365296e+00],\n",
      "       [-2.9157288e+00,  2.2553725e+00],\n",
      "       [-2.9059699e+00,  2.2666895e+00],\n",
      "       [ 2.8805029e+00, -3.0908196e+00],\n",
      "       [-3.0215445e+00,  2.2902291e+00],\n",
      "       [-2.9143064e+00,  2.2450471e+00],\n",
      "       [ 2.5756769e+00, -2.9287589e+00],\n",
      "       [-2.3979809e+00,  1.8459892e+00],\n",
      "       [-2.9444411e+00,  2.2692094e+00],\n",
      "       [ 3.0095117e+00, -3.1739008e+00],\n",
      "       [-2.7736766e+00,  2.1594720e+00],\n",
      "       [ 2.5166972e+00, -2.7741299e+00],\n",
      "       [ 3.0069578e+00, -3.2190516e+00],\n",
      "       [ 2.9854417e+00, -3.1488943e+00],\n",
      "       [-2.9058452e+00,  2.2317035e+00],\n",
      "       [-2.8076141e+00,  2.1667173e+00],\n",
      "       [ 2.8046272e+00, -3.0270612e+00],\n",
      "       [ 2.9774539e+00, -3.1998260e+00],\n",
      "       [-2.8734665e+00,  2.2400143e+00],\n",
      "       [-2.9929259e+00,  2.2752311e+00],\n",
      "       [ 2.7202570e+00, -2.9828455e+00],\n",
      "       [-3.0010211e+00,  2.2733362e+00],\n",
      "       [-2.4348447e+00,  1.8329262e+00],\n",
      "       [-2.8048418e+00,  2.2109971e+00],\n",
      "       [ 2.4847531e+00, -2.6906655e+00],\n",
      "       [-2.0354185e+00,  1.4594166e+00],\n",
      "       [-1.0824221e+00,  6.2120104e-01],\n",
      "       [ 1.9343585e+00, -2.2187486e+00],\n",
      "       [-1.0211986e+00,  7.2803801e-01],\n",
      "       [ 2.8155506e+00, -2.9065568e+00],\n",
      "       [ 2.8535545e+00, -3.0645177e+00],\n",
      "       [ 2.5911770e+00, -2.9195571e+00],\n",
      "       [ 2.8817148e+00, -3.0926907e+00],\n",
      "       [-2.8150969e+00,  2.1784399e+00],\n",
      "       [ 3.0456355e+00, -3.2386096e+00],\n",
      "       [ 2.9421518e+00, -3.1651039e+00],\n",
      "       [-2.9785471e+00,  2.2763889e+00],\n",
      "       [-2.8098333e+00,  2.1624038e+00],\n",
      "       [-2.2797196e+00,  1.7447070e+00],\n",
      "       [ 2.9335430e+00, -3.0855536e+00],\n",
      "       [-2.3233514e+00,  1.7665054e+00],\n",
      "       [ 2.9735234e+00, -3.1782811e+00],\n",
      "       [ 1.7631783e+00, -2.0522304e+00],\n",
      "       [ 2.8168254e+00, -2.9966390e+00],\n",
      "       [-2.5517371e+00,  2.0246084e+00],\n",
      "       [ 1.6440463e+00, -1.8378445e+00],\n",
      "       [-2.7302144e+00,  2.1516099e+00],\n",
      "       [-2.9540114e+00,  2.2428882e+00],\n",
      "       [-3.0120187e+00,  2.2775919e+00],\n",
      "       [ 2.2554314e+00, -2.5115552e+00],\n",
      "       [-2.9380734e+00,  2.2576272e+00],\n",
      "       [-2.7653461e+00,  2.1164577e+00],\n",
      "       [-2.8023758e+00,  2.1778581e+00],\n",
      "       [ 2.8414900e+00, -3.0666215e+00],\n",
      "       [-2.9717865e+00,  2.2765620e+00],\n",
      "       [ 2.5194228e+00, -2.6963179e+00],\n",
      "       [-2.9793770e+00,  2.2806747e+00],\n",
      "       [-2.4388359e+00,  1.8366159e+00],\n",
      "       [ 2.9290063e+00, -3.1884477e+00],\n",
      "       [-2.5027511e+00,  1.8768724e+00],\n",
      "       [-2.9923179e+00,  2.2987449e+00],\n",
      "       [ 2.7276335e+00, -2.9098370e+00],\n",
      "       [ 1.5437037e+00, -1.8928150e+00],\n",
      "       [-2.9901850e+00,  2.2861602e+00],\n",
      "       [-1.2394860e+00,  8.3031005e-01],\n",
      "       [ 2.7345030e+00, -3.0310099e+00],\n",
      "       [-2.8027601e+00,  2.2099974e+00],\n",
      "       [-4.6583819e-01, -1.4770053e-03],\n",
      "       [-2.7921474e+00,  2.1438911e+00],\n",
      "       [ 3.0230248e+00, -3.2092364e+00],\n",
      "       [ 2.9244463e+00, -3.2004259e+00],\n",
      "       [-2.9809177e+00,  2.2485402e+00],\n",
      "       [-5.5160534e-01,  3.1854460e-01],\n",
      "       [ 2.7449918e+00, -3.0141542e+00],\n",
      "       [ 2.9962912e+00, -3.0885153e+00],\n",
      "       [ 2.9996119e+00, -3.2144134e+00],\n",
      "       [-2.7737539e+00,  2.1035907e+00],\n",
      "       [-2.2845860e+00,  1.6589283e+00],\n",
      "       [-2.9582250e+00,  2.2628739e+00],\n",
      "       [-2.3294170e+00,  1.7888619e+00],\n",
      "       [ 2.8054678e+00, -3.0219469e+00],\n",
      "       [ 2.8559856e+00, -3.1195710e+00],\n",
      "       [ 2.8363922e+00, -3.0698745e+00],\n",
      "       [-2.9422739e+00,  2.2622652e+00],\n",
      "       [-2.7891049e+00,  2.1654685e+00],\n",
      "       [-2.9467876e+00,  2.2518814e+00],\n",
      "       [ 2.9073908e+00, -3.1163809e+00],\n",
      "       [-2.9249938e+00,  2.2070229e+00],\n",
      "       [ 2.9375737e+00, -3.1354959e+00],\n",
      "       [-2.8270266e+00,  2.1553686e+00],\n",
      "       [-2.6773584e+00,  2.0853302e+00],\n",
      "       [-2.9920132e+00,  2.2625723e+00],\n",
      "       [-2.7361443e+00,  2.0813582e+00],\n",
      "       [ 2.8767786e+00, -3.1605160e+00],\n",
      "       [-2.8635380e+00,  2.2016871e+00],\n",
      "       [ 2.1339190e+00, -2.4765046e+00],\n",
      "       [ 3.0542560e+00, -3.2002337e+00],\n",
      "       [-2.8015606e+00,  2.1779284e+00],\n",
      "       [-2.9478929e+00,  2.2711895e+00]], dtype=float32), label_ids=array([0, 1, 0, 0, 1, 1, 0, 0, 0, 1, 0, 1, 0, 0, 1, 0, 1, 1, 0, 0, 0, 1,\n",
      "       0, 0, 0, 0, 1, 0, 0, 1, 1, 0, 0, 1, 0, 1, 0, 0, 1, 0, 1, 1, 1, 0,\n",
      "       0, 0, 1, 1, 0, 0, 1, 0, 1, 0, 1, 0, 0, 0, 1, 1, 1, 0, 0, 0, 0, 0,\n",
      "       1, 1, 1, 0, 0, 0, 1, 0, 0, 0, 1, 0, 1, 0, 0, 1, 0, 1, 0, 0, 1, 0,\n",
      "       0, 1, 1, 1, 0, 1, 1, 0, 0, 1, 0, 0, 1, 0, 1, 1, 0, 1, 1, 0, 1, 1,\n",
      "       0, 1, 1, 0, 0, 1, 1, 0, 0, 1, 1, 0, 1, 0, 1, 1, 0, 1, 0, 0, 0, 0,\n",
      "       0, 1, 1, 0, 0, 1, 1, 1, 0, 1, 0, 0, 0, 1, 1, 1, 1, 1, 0, 1, 1, 1,\n",
      "       0, 1, 0, 1, 0, 0, 0, 1, 0, 0, 1, 1, 0, 1, 0, 1, 0, 1, 1, 0, 0, 0,\n",
      "       0, 1, 1, 1, 1, 0, 0, 0, 1, 1, 1, 0, 1, 0, 1, 1, 1, 1, 0, 1, 0, 0,\n",
      "       1, 1]), metrics={'test_loss': 0.5627148151397705, 'test_runtime': 11.9277, 'test_samples_per_second': 16.768, 'test_steps_per_second': 2.096})\n"
     ]
    }
   ],
   "source": [
    "print(predictions)"
   ]
  },
  {
   "cell_type": "code",
   "execution_count": 56,
   "id": "45715830",
   "metadata": {},
   "outputs": [],
   "source": [
    "import numpy as np\n",
    "\n",
    "preds = np.argmax(predictions.predictions, axis=-1)"
   ]
  },
  {
   "cell_type": "code",
   "execution_count": 51,
   "id": "69dc3cd0",
   "metadata": {},
   "outputs": [
    {
     "name": "stdout",
     "output_type": "stream",
     "text": [
      "[0 1 0 0 1 1 0 0 0 0 0 1 1 1 0 0 1 1 0 1 0 1 0 0 0 0 1 1 0 1 1 0 0 0 0 1 0\n",
      " 0 1 0 1 1 1 0 1 0 1 1 1 0 1 0 1 0 1 1 1 1 1 1 0 0 0 0 0 0 0 0 1 0 0 0 1 1\n",
      " 0 0 1 0 1 1 0 1 0 1 0 0 1 0 0 0 1 1 0 1 1 1 0 1 0 0 1 0 1 1 0 1 1 0 1 1 0\n",
      " 1 0 0 0 1 1 0 0 1 1 0 1 1 1 0 1 1 0 1 0 0 0 0 1 0 0 1 1 1 0 1 0 0 0 1 0 1\n",
      " 1 1 0 1 1 1 0 1 0 1 1 0 1 1 0 0 1 1 0 1 1 1 0 0 1 1 0 0 0 1 1 1 1 0 0 0 1\n",
      " 1 1 0 1 0 1 1 1 1 0 1 0 0 1 1]\n"
     ]
    }
   ],
   "source": [
    "print(preds)"
   ]
  },
  {
   "cell_type": "code",
   "execution_count": null,
   "id": "ddb57874",
   "metadata": {},
   "outputs": [
    {
     "name": "stderr",
     "output_type": "stream",
     "text": [
      "Downloading builder script: 4.20kB [00:00, 5.67MB/s]\n",
      "Downloading builder script: 7.56kB [00:00, 6.18MB/s]\n",
      "Downloading builder script: 7.38kB [00:00, 5.66MB/s]\n",
      "Downloading builder script: 6.79kB [00:00, 5.58MB/s]"
     ]
    },
    {
     "name": "stdout",
     "output_type": "stream",
     "text": [
      "{'accuracy': {'accuracy': 0.845}, 'precision': {'precision': 0.8155339805825242}, 'recall': {'recall': 0.875}, 'f1': {'f1': 0.8442211055276382}}\n"
     ]
    },
    {
     "name": "stderr",
     "output_type": "stream",
     "text": [
      "\n"
     ]
    }
   ],
   "source": [
    "import evaluate\n",
    "\n",
    "trainer.train()\n",
    "\n",
    "predictions = trainer.predict(tokenized_datasets[\"validate\"])\n",
    "print(predictions.predictions.shape, predictions.label_ids.shape)\n",
    "\n",
    "\n",
    "preds = np.argmax(predictions.predictions, axis=-1)\n",
    "\n",
    "# Load multiple metrics for binary classification\n",
    "accuracy = evaluate.load(\"accuracy\")\n",
    "precision = evaluate.load(\"precision\")\n",
    "recall = evaluate.load(\"recall\")\n",
    "f1 = evaluate.load(\"f1\")\n",
    "\n",
    "# Compute all metrics\n",
    "results = {\n",
    "    \"accuracy\": accuracy.compute(predictions=preds, references=predictions.label_ids),\n",
    "    \"precision\": precision.compute(predictions=preds, references=predictions.label_ids),\n",
    "    \"recall\": recall.compute(predictions=preds, references=predictions.label_ids),\n",
    "    \"f1\": f1.compute(predictions=preds, references=predictions.label_ids)\n",
    "}\n",
    "\n",
    "print(results)\n"
   ]
  },
  {
   "cell_type": "code",
   "execution_count": 60,
   "id": "c0008635",
   "metadata": {},
   "outputs": [
    {
     "name": "stdout",
     "output_type": "stream",
     "text": [
      "{'accuracy': {'accuracy': 0.845}, 'precision': {'precision': 0.8155339805825242}, 'recall': {'recall': 0.875}, 'f1': {'f1': 0.8442211055276382}}\n"
     ]
    }
   ],
   "source": [
    "# Compute all metrics\n",
    "preds = np.argmax(predictions.predictions, axis=-1)\n",
    "\n",
    "results = {\n",
    "    \"accuracy\": accuracy.compute(predictions=preds, references=predictions.label_ids),\n",
    "    \"precision\": precision.compute(predictions=preds, references=predictions.label_ids),\n",
    "    \"recall\": recall.compute(predictions=preds, references=predictions.label_ids),\n",
    "    \"f1\": f1.compute(predictions=preds, references=predictions.label_ids)\n",
    "}\n",
    "\n",
    "print(results)"
   ]
  },
  {
   "cell_type": "code",
   "execution_count": 59,
   "id": "212125d5",
   "metadata": {},
   "outputs": [
    {
     "data": {
      "text/html": [],
      "text/plain": [
       "<IPython.core.display.HTML object>"
      ]
     },
     "metadata": {},
     "output_type": "display_data"
    },
    {
     "name": "stdout",
     "output_type": "stream",
     "text": [
      "Found 31 wrong predictions out of 200\n",
      "\n",
      "Example 24:\n",
      "Text: Purchased this film for one dollar and figured I could never go wrong, my big mistake was watching it. Enjoyed the acting of Ice-T and the rapping which gave lots of class to this film about Los Angel...\n",
      "True label: Negative\n",
      "Predicted: Positive\n",
      "--------------------------------------------------\n",
      "\n",
      "Example 30:\n",
      "Text: A truly masterful piece of filmmaking. It managed to put me to sleep and to boggle my mind. So boring that it induces sleep and yet so ludicrous that it made me wonder how stuff like this gets made. A...\n",
      "True label: Negative\n",
      "Predicted: Positive\n",
      "--------------------------------------------------\n",
      "\n",
      "Example 31:\n",
      "Text: I used to always love the bill because of its great script and characters, but lately i feel as though it has turned into an emotional type of soap. If you look at promotional pictures/posters of the ...\n",
      "True label: Negative\n",
      "Predicted: Positive\n",
      "--------------------------------------------------\n",
      "\n",
      "Example 32:\n",
      "Text: I have fond memories of watching this when it came out. It's one of those films that you know is rubbish, even when you're a kid, but at that age you overlook the ludicrous acting, special effects and...\n",
      "True label: Positive\n",
      "Predicted: Negative\n",
      "--------------------------------------------------\n",
      "\n",
      "Example 50:\n",
      "Text: It has a bit of that indie queer edge that was hip in the 90s and which places an explicit sell-by date on the visual style. Characters are uniformly apathetic and farcically deadpan. Street hoodlums ...\n",
      "True label: Negative\n",
      "Predicted: Positive\n",
      "--------------------------------------------------\n"
     ]
    }
   ],
   "source": [
    "\n",
    "# Get predictions\n",
    "predictions = trainer.predict(tokenized_datasets[\"test\"])\n",
    "predicted_labels = predictions.predictions.argmax(-1)\n",
    "true_labels = predictions.label_ids\n",
    "\n",
    "# Find wrong predictions\n",
    "wrong_indices = []\n",
    "for i, (pred, true) in enumerate(zip(predicted_labels, true_labels)):\n",
    "    if pred != true:\n",
    "        wrong_indices.append(i)\n",
    "\n",
    "print(f\"Found {len(wrong_indices)} wrong predictions out of {len(true_labels)}\")\n",
    "\n",
    "# Show first 5 wrong predictions\n",
    "for i in wrong_indices[:5]:\n",
    "    example = raw_datasets[\"test\"][i]\n",
    "    pred_label = \"Positive\" if predicted_labels[i] == 1 else \"Negative\"\n",
    "    true_label = \"Positive\" if true_labels[i] == 1 else \"Negative\"\n",
    "    \n",
    "    print(f\"\\nExample {i}:\")\n",
    "    print(f\"Text: {example['text'][:200]}...\")  # First 200 chars\n",
    "    print(f\"True label: {true_label}\")\n",
    "    print(f\"Predicted: {pred_label}\")\n",
    "    print(\"-\" * 50)\n"
   ]
  },
  {
   "cell_type": "code",
   "execution_count": 69,
   "id": "4fb53115",
   "metadata": {},
   "outputs": [],
   "source": [
    "training_args = TrainingArguments(\n",
    "    output_dir=\"./results\",\n",
    "    eval_strategy=\"epoch\",\n",
    "    save_strategy=\"epoch\",\n",
    "    logging_strategy=\"epoch\",\n",
    "    \n",
    "    # Learning rate tuning\n",
    "    learning_rate=3e-5,  # Try 1e-5, 2e-5, 3e-5, 5e-5\n",
    "    lr_scheduler_type=\"cosine\",  # Try \"linear\", \"cosine\", \"polynomial\"\n",
    "    \n",
    "    # Training dynamics\n",
    "    num_train_epochs=3,  # Try 3-10 epochs\n",
    "    warmup_ratio=0.1,    # Warm up learning rate\n",
    "    weight_decay=0.01,   # Regularization\n",
    "    \n",
    "    # Batch size (adjust based on GPU memory)\n",
    "    per_device_train_batch_size=16,\n",
    "    per_device_eval_batch_size=16,\n",
    "    \n",
    "    # Early stopping and saving\n",
    "    #load_best_model_at_end=True,\n",
    "    #metric_for_best_model=\"eval_accuracy\",\n",
    "    #greater_is_better=True,\n",
    ")\n"
   ]
  },
  {
   "cell_type": "code",
   "execution_count": 70,
   "id": "934b8415",
   "metadata": {},
   "outputs": [],
   "source": [
    "from transformers import EarlyStoppingCallback\n",
    "\n",
    "trainer = Trainer(\n",
    "    model,\n",
    "    training_args,\n",
    "    train_dataset=tokenized_datasets[\"train\"],\n",
    "    eval_dataset=tokenized_datasets[\"test\"],\n",
    "    data_collator=data_collator,\n",
    "    processing_class=tokenizer\n",
    ")"
   ]
  },
  {
   "cell_type": "code",
   "execution_count": 71,
   "id": "618a15be",
   "metadata": {},
   "outputs": [
    {
     "data": {
      "text/html": [
       "\n",
       "    <div>\n",
       "      \n",
       "      <progress value='189' max='189' style='width:300px; height:20px; vertical-align: middle;'></progress>\n",
       "      [189/189 13:23, Epoch 3/3]\n",
       "    </div>\n",
       "    <table border=\"1\" class=\"dataframe\">\n",
       "  <thead>\n",
       " <tr style=\"text-align: left;\">\n",
       "      <th>Epoch</th>\n",
       "      <th>Training Loss</th>\n",
       "      <th>Validation Loss</th>\n",
       "    </tr>\n",
       "  </thead>\n",
       "  <tbody>\n",
       "    <tr>\n",
       "      <td>1</td>\n",
       "      <td>0.026500</td>\n",
       "      <td>0.898974</td>\n",
       "    </tr>\n",
       "    <tr>\n",
       "      <td>2</td>\n",
       "      <td>0.023900</td>\n",
       "      <td>0.984288</td>\n",
       "    </tr>\n",
       "    <tr>\n",
       "      <td>3</td>\n",
       "      <td>0.007500</td>\n",
       "      <td>0.981252</td>\n",
       "    </tr>\n",
       "  </tbody>\n",
       "</table><p>"
      ],
      "text/plain": [
       "<IPython.core.display.HTML object>"
      ]
     },
     "metadata": {},
     "output_type": "display_data"
    },
    {
     "data": {
      "text/plain": [
       "TrainOutput(global_step=189, training_loss=0.01933136062016563, metrics={'train_runtime': 807.2904, 'train_samples_per_second': 3.716, 'train_steps_per_second': 0.234, 'total_flos': 391830286012032.0, 'train_loss': 0.01933136062016563, 'epoch': 3.0})"
      ]
     },
     "execution_count": 71,
     "metadata": {},
     "output_type": "execute_result"
    }
   ],
   "source": [
    "\n",
    "\n",
    "trainer.train()\n"
   ]
  },
  {
   "cell_type": "markdown",
   "id": "7bd1e8fe",
   "metadata": {},
   "source": [
    "{'accuracy': {'accuracy': 0.845}, 'precision': {'precision': 0.8651685393258427}, 'recall': {'recall': 0.8020833333333334}, 'f1': {'f1': 0.8324324324324325}"
   ]
  },
  {
   "cell_type": "markdown",
   "id": "13f57da4",
   "metadata": {},
   "source": [
    "TrainOutput(global_step=375, training_loss=0.2925295613606771, metrics={'train_runtime': 750.786, 'train_samples_per_second': 3.996, 'train_steps_per_second': 0.499, 'total_flos': 368950682500416.0, 'train_loss': 0.2925295613606771, 'epoch': 3.0})\n",
    "{'accuracy': {'accuracy': 0.845}, 'precision': {'precision': 0.8155339805825242}, 'recall': {'recall': 0.875}, 'f1': {'f1': 0.8442211055276382}}"
   ]
  },
  {
   "cell_type": "code",
   "execution_count": 72,
   "id": "2d7ec31e",
   "metadata": {},
   "outputs": [
    {
     "data": {
      "text/html": [],
      "text/plain": [
       "<IPython.core.display.HTML object>"
      ]
     },
     "metadata": {},
     "output_type": "display_data"
    },
    {
     "name": "stdout",
     "output_type": "stream",
     "text": [
      "(200, 2) (200,)\n"
     ]
    }
   ],
   "source": [
    "\n",
    "predictions = trainer.predict(tokenized_datasets[\"validate\"])\n",
    "print(predictions.predictions.shape, predictions.label_ids.shape)\n",
    "\n",
    "\n",
    "preds = np.argmax(predictions.predictions, axis=-1)\n",
    "\n"
   ]
  },
  {
   "cell_type": "code",
   "execution_count": 73,
   "id": "7343a266",
   "metadata": {},
   "outputs": [
    {
     "name": "stdout",
     "output_type": "stream",
     "text": [
      "{'accuracy': {'accuracy': 0.845}, 'precision': {'precision': 0.8651685393258427}, 'recall': {'recall': 0.8020833333333334}, 'f1': {'f1': 0.8324324324324325}}\n"
     ]
    }
   ],
   "source": [
    "# Load multiple metrics for binary classification\n",
    "accuracy = evaluate.load(\"accuracy\")\n",
    "precision = evaluate.load(\"precision\")\n",
    "recall = evaluate.load(\"recall\")\n",
    "f1 = evaluate.load(\"f1\")\n",
    "\n",
    "# Compute all metrics\n",
    "results = {\n",
    "    \"accuracy\": accuracy.compute(predictions=preds, references=predictions.label_ids),\n",
    "    \"precision\": precision.compute(predictions=preds, references=predictions.label_ids),\n",
    "    \"recall\": recall.compute(predictions=preds, references=predictions.label_ids),\n",
    "    \"f1\": f1.compute(predictions=preds, references=predictions.label_ids)\n",
    "}\n",
    "\n",
    "print(results)\n"
   ]
  }
 ],
 "metadata": {
  "kernelspec": {
   "display_name": "llm_play",
   "language": "python",
   "name": "python3"
  },
  "language_info": {
   "codemirror_mode": {
    "name": "ipython",
    "version": 3
   },
   "file_extension": ".py",
   "mimetype": "text/x-python",
   "name": "python",
   "nbconvert_exporter": "python",
   "pygments_lexer": "ipython3",
   "version": "3.9.23"
  }
 },
 "nbformat": 4,
 "nbformat_minor": 5
}
